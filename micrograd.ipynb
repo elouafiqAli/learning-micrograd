{
 "cells": [
  {
   "cell_type": "code",
   "execution_count": 1,
   "id": "846fcd03",
   "metadata": {
    "_cell_guid": "b1076dfc-b9ad-4769-8c92-a6c4dae69d19",
    "_uuid": "8f2839f25d086af736a60e9eeb907d3b93b6e0e5",
    "execution": {
     "iopub.execute_input": "2024-11-16T21:57:03.510670Z",
     "iopub.status.busy": "2024-11-16T21:57:03.510077Z",
     "iopub.status.idle": "2024-11-16T21:57:03.524414Z",
     "shell.execute_reply": "2024-11-16T21:57:03.523434Z"
    },
    "papermill": {
     "duration": 0.021558,
     "end_time": "2024-11-16T21:57:03.526820",
     "exception": false,
     "start_time": "2024-11-16T21:57:03.505262",
     "status": "completed"
    },
    "tags": []
   },
   "outputs": [],
   "source": [
    "# This Python 3 environment comes with many helpful analytics libraries installed\n",
    "import math\n",
    "import numpy as np\n",
    "import matplotlib.pyplot as plt\n",
    "%matplotlib inline "
   ]
  },
  {
   "cell_type": "code",
   "execution_count": 2,
   "id": "9db4f5de",
   "metadata": {
    "execution": {
     "iopub.execute_input": "2024-11-16T21:57:03.533063Z",
     "iopub.status.busy": "2024-11-16T21:57:03.532644Z",
     "iopub.status.idle": "2024-11-16T21:57:03.537647Z",
     "shell.execute_reply": "2024-11-16T21:57:03.536556Z"
    },
    "papermill": {
     "duration": 0.010661,
     "end_time": "2024-11-16T21:57:03.539931",
     "exception": false,
     "start_time": "2024-11-16T21:57:03.529270",
     "status": "completed"
    },
    "tags": []
   },
   "outputs": [],
   "source": [
    "def f(x):\n",
    "    return 2*x**2 - 4*x+5"
   ]
  },
  {
   "cell_type": "code",
   "execution_count": null,
   "id": "6d3df0dd",
   "metadata": {
    "papermill": {
     "duration": 0.001937,
     "end_time": "2024-11-16T21:57:03.544169",
     "exception": false,
     "start_time": "2024-11-16T21:57:03.542232",
     "status": "completed"
    },
    "tags": []
   },
   "outputs": [],
   "source": []
  }
 ],
 "metadata": {
  "kaggle": {
   "accelerator": "none",
   "dataSources": [],
   "dockerImageVersionId": 30786,
   "isGpuEnabled": false,
   "isInternetEnabled": true,
   "language": "python",
   "sourceType": "notebook"
  },
  "kernelspec": {
   "display_name": "Python 3",
   "language": "python",
   "name": "python3"
  },
  "language_info": {
   "codemirror_mode": {
    "name": "ipython",
    "version": 3
   },
   "file_extension": ".py",
   "mimetype": "text/x-python",
   "name": "python",
   "nbconvert_exporter": "python",
   "pygments_lexer": "ipython3",
   "version": "3.10.14"
  },
  "papermill": {
   "default_parameters": {},
   "duration": 3.32744,
   "end_time": "2024-11-16T21:57:03.867930",
   "environment_variables": {},
   "exception": null,
   "input_path": "__notebook__.ipynb",
   "output_path": "__notebook__.ipynb",
   "parameters": {},
   "start_time": "2024-11-16T21:57:00.540490",
   "version": "2.6.0"
  }
 },
 "nbformat": 4,
 "nbformat_minor": 5
}
